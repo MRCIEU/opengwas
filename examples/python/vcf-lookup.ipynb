{
 "cells": [
  {
   "cell_type": "code",
   "execution_count": 1,
   "metadata": {},
   "outputs": [],
   "source": [
    "import pygwasvcf"
   ]
  },
  {
   "cell_type": "code",
   "execution_count": 2,
   "metadata": {},
   "outputs": [],
   "source": [
    "def get_metadata(databatch, dataset):\n",
    "    \"\"\"Retrieves meta-data from a VCF file in OpenGWAS\"\"\"\n",
    "    with pygwasvcf.GwasVcf(\n",
    "        f\"https://objectstorage.us-ashburn-1.oraclecloud.com/n/idrvm4tkz2a8/b/OpenGWAS/o/{databatch}/{dataset}/{dataset}.vcf.gz\"\n",
    "    ) as g:\n",
    "        return g.get_metadata()\n",
    "\n",
    "\n",
    "def query_variant(databatch, dataset, contig, start, stop):\n",
    "    \"\"\"Retrieves data for a variant from a VCF file in OpenGWAS\"\"\"\n",
    "    with pygwasvcf.GwasVcf(\n",
    "        f\"https://objectstorage.us-ashburn-1.oraclecloud.com/n/idrvm4tkz2a8/b/OpenGWAS/o/{databatch}/{dataset}/{dataset}.vcf.gz\"\n",
    "    ) as g:\n",
    "        results = []\n",
    "        for variant in g.query(contig=contig, start=start, stop=stop):\n",
    "            results.append(variant)\n",
    "        return results\n",
    "\n",
    "def main():\n",
    "    print(get_metadata(\"bbj-a\", \"bbj-a-1\"))\n",
    "    data = query_variant(\"bbj-a\", \"bbj-a-1\", \"1\", 1000000, 2000000)\n",
    "    for variant in data:\n",
    "        print(variant)\n"
   ]
  },
  {
   "cell_type": "code",
   "execution_count": 3,
   "metadata": {},
   "outputs": [
    {
     "name": "stderr",
     "output_type": "stream",
     "text": [
      "[E::idx_test_and_fetch] Failed to create file bbj-a-1.vcf.gz.tbi in the working directory\n",
      "[E::idx_find_and_load] Could not retrieve index file for 'https://objectstorage.us-ashburn-1.oraclecloud.com/n/idrvm4tkz2a8/b/OpenGWAS/o/bbj-a/bbj-a-1/bbj-a-1.vcf.gz'\n"
     ]
    },
    {
     "name": "stdout",
     "output_type": "stream",
     "text": [
      "{'bbj-a-1': {'TotalVariants': '5961600', 'VariantsNotRead': '0', 'HarmonisedVariants': '5961600', 'VariantsNotHarmonised': '0', 'SwitchedAlleles': '0', 'StudyType': 'Continuous'}}\n"
     ]
    },
    {
     "name": "stderr",
     "output_type": "stream",
     "text": [
      "[E::idx_test_and_fetch] Failed to create file bbj-a-1.vcf.gz.tbi in the working directory\n",
      "[E::idx_find_and_load] Could not retrieve index file for 'https://objectstorage.us-ashburn-1.oraclecloud.com/n/idrvm4tkz2a8/b/OpenGWAS/o/bbj-a/bbj-a-1/bbj-a-1.vcf.gz'\n"
     ]
    },
    {
     "ename": "ValueError",
     "evalue": "fetch requires an index",
     "output_type": "error",
     "traceback": [
      "\u001b[0;31m---------------------------------------------------------------------------\u001b[0m",
      "\u001b[0;31mValueError\u001b[0m                                Traceback (most recent call last)",
      "Cell \u001b[0;32mIn [3], line 1\u001b[0m\n\u001b[0;32m----> 1\u001b[0m \u001b[43mmain\u001b[49m\u001b[43m(\u001b[49m\u001b[43m)\u001b[49m\n",
      "Cell \u001b[0;32mIn [2], line 21\u001b[0m, in \u001b[0;36mmain\u001b[0;34m()\u001b[0m\n\u001b[1;32m     19\u001b[0m \u001b[38;5;28;01mdef\u001b[39;00m \u001b[38;5;21mmain\u001b[39m():\n\u001b[1;32m     20\u001b[0m     \u001b[38;5;28mprint\u001b[39m(get_metadata(\u001b[38;5;124m\"\u001b[39m\u001b[38;5;124mbbj-a\u001b[39m\u001b[38;5;124m\"\u001b[39m, \u001b[38;5;124m\"\u001b[39m\u001b[38;5;124mbbj-a-1\u001b[39m\u001b[38;5;124m\"\u001b[39m))\n\u001b[0;32m---> 21\u001b[0m     data \u001b[38;5;241m=\u001b[39m \u001b[43mquery_variant\u001b[49m\u001b[43m(\u001b[49m\u001b[38;5;124;43m\"\u001b[39;49m\u001b[38;5;124;43mbbj-a\u001b[39;49m\u001b[38;5;124;43m\"\u001b[39;49m\u001b[43m,\u001b[49m\u001b[43m \u001b[49m\u001b[38;5;124;43m\"\u001b[39;49m\u001b[38;5;124;43mbbj-a-1\u001b[39;49m\u001b[38;5;124;43m\"\u001b[39;49m\u001b[43m,\u001b[49m\u001b[43m \u001b[49m\u001b[38;5;124;43m\"\u001b[39;49m\u001b[38;5;124;43m1\u001b[39;49m\u001b[38;5;124;43m\"\u001b[39;49m\u001b[43m,\u001b[49m\u001b[43m \u001b[49m\u001b[38;5;241;43m1000000\u001b[39;49m\u001b[43m,\u001b[49m\u001b[43m \u001b[49m\u001b[38;5;241;43m2000000\u001b[39;49m\u001b[43m)\u001b[49m\n\u001b[1;32m     22\u001b[0m     \u001b[38;5;28;01mfor\u001b[39;00m variant \u001b[38;5;129;01min\u001b[39;00m data:\n\u001b[1;32m     23\u001b[0m         \u001b[38;5;28mprint\u001b[39m(variant)\n",
      "Cell \u001b[0;32mIn [2], line 15\u001b[0m, in \u001b[0;36mquery_variant\u001b[0;34m(databatch, dataset, contig, start, stop)\u001b[0m\n\u001b[1;32m     11\u001b[0m \u001b[38;5;28;01mwith\u001b[39;00m pygwasvcf\u001b[38;5;241m.\u001b[39mGwasVcf(\n\u001b[1;32m     12\u001b[0m     \u001b[38;5;124mf\u001b[39m\u001b[38;5;124m\"\u001b[39m\u001b[38;5;124mhttps://objectstorage.us-ashburn-1.oraclecloud.com/n/idrvm4tkz2a8/b/OpenGWAS/o/\u001b[39m\u001b[38;5;132;01m{\u001b[39;00mdatabatch\u001b[38;5;132;01m}\u001b[39;00m\u001b[38;5;124m/\u001b[39m\u001b[38;5;132;01m{\u001b[39;00mdataset\u001b[38;5;132;01m}\u001b[39;00m\u001b[38;5;124m/\u001b[39m\u001b[38;5;132;01m{\u001b[39;00mdataset\u001b[38;5;132;01m}\u001b[39;00m\u001b[38;5;124m.vcf.gz\u001b[39m\u001b[38;5;124m\"\u001b[39m\n\u001b[1;32m     13\u001b[0m ) \u001b[38;5;28;01mas\u001b[39;00m g:\n\u001b[1;32m     14\u001b[0m     results \u001b[38;5;241m=\u001b[39m []\n\u001b[0;32m---> 15\u001b[0m     \u001b[38;5;28;01mfor\u001b[39;00m variant \u001b[38;5;129;01min\u001b[39;00m g\u001b[38;5;241m.\u001b[39mquery(contig\u001b[38;5;241m=\u001b[39mcontig, start\u001b[38;5;241m=\u001b[39mstart, stop\u001b[38;5;241m=\u001b[39mstop):\n\u001b[1;32m     16\u001b[0m         results\u001b[38;5;241m.\u001b[39mappend(variant)\n\u001b[1;32m     17\u001b[0m     \u001b[38;5;28;01mreturn\u001b[39;00m results\n",
      "File \u001b[0;32m~/Library/Python/3.10/lib/python/site-packages/pygwasvcf/gwas_vcf.py:147\u001b[0m, in \u001b[0;36mGwasVcf.query\u001b[0;34m(self, contig, start, stop, variant_id, exclude_filtered)\u001b[0m\n\u001b[1;32m    144\u001b[0m     stop \u001b[39m=\u001b[39m pos\n\u001b[1;32m    146\u001b[0m \u001b[39m# extract variant(s) from GWAS-VCF\u001b[39;00m\n\u001b[0;32m--> 147\u001b[0m \u001b[39mfor\u001b[39;00m rec \u001b[39min\u001b[39;00m \u001b[39mself\u001b[39;49m\u001b[39m.\u001b[39;49m__vcf\u001b[39m.\u001b[39;49mfetch(contig\u001b[39m=\u001b[39;49mcontig, start\u001b[39m=\u001b[39;49mstart, stop\u001b[39m=\u001b[39;49mstop):\n\u001b[1;32m    148\u001b[0m     \u001b[39m# check multiallelics are on separate rows which is required for functions\u001b[39;00m\n\u001b[1;32m    149\u001b[0m     pygwasvcf\u001b[39m.\u001b[39mVariantRecordGwasFuns\u001b[39m.\u001b[39mcheck_biallelic(rec)\n\u001b[1;32m    151\u001b[0m     \u001b[39m# skip variants not meeting filter requirements\u001b[39;00m\n",
      "File \u001b[0;32mpysam/libcbcf.pyx:4450\u001b[0m, in \u001b[0;36mpysam.libcbcf.VariantFile.fetch\u001b[0;34m()\u001b[0m\n",
      "\u001b[0;31mValueError\u001b[0m: fetch requires an index"
     ]
    }
   ],
   "source": [
    "main()"
   ]
  },
  {
   "cell_type": "code",
   "execution_count": 4,
   "metadata": {},
   "outputs": [
    {
     "ename": "ImportError",
     "evalue": "dlopen(/Users/gh13047/Library/Python/3.10/lib/python/site-packages/cyvcf2/cyvcf2.cpython-310-darwin.so, 0x0002): symbol not found in flat namespace (_libdeflate_alloc_compressor)",
     "output_type": "error",
     "traceback": [
      "\u001b[0;31m---------------------------------------------------------------------------\u001b[0m",
      "\u001b[0;31mImportError\u001b[0m                               Traceback (most recent call last)",
      "Cell \u001b[0;32mIn [4], line 1\u001b[0m\n\u001b[0;32m----> 1\u001b[0m \u001b[38;5;28;01mimport\u001b[39;00m \u001b[38;5;21;01mcyvcf2\u001b[39;00m\n",
      "File \u001b[0;32m~/Library/Python/3.10/lib/python/site-packages/cyvcf2/__init__.py:1\u001b[0m\n\u001b[0;32m----> 1\u001b[0m \u001b[39mfrom\u001b[39;00m \u001b[39m.\u001b[39;00m\u001b[39mcyvcf2\u001b[39;00m \u001b[39mimport\u001b[39;00m (VCF, Variant, Writer, r_ \u001b[39mas\u001b[39;00m r_unphased, par_relatedness,\n\u001b[1;32m      2\u001b[0m                      par_het)\n\u001b[1;32m      3\u001b[0m Reader \u001b[39m=\u001b[39m VCFReader \u001b[39m=\u001b[39m VCF\n\u001b[1;32m      5\u001b[0m __version__ \u001b[39m=\u001b[39m \u001b[39m\"\u001b[39m\u001b[39m0.30.16\u001b[39m\u001b[39m\"\u001b[39m\n",
      "\u001b[0;31mImportError\u001b[0m: dlopen(/Users/gh13047/Library/Python/3.10/lib/python/site-packages/cyvcf2/cyvcf2.cpython-310-darwin.so, 0x0002): symbol not found in flat namespace (_libdeflate_alloc_compressor)"
     ]
    }
   ],
   "source": [
    "import cyvcf2"
   ]
  }
 ],
 "metadata": {
  "kernelspec": {
   "display_name": "Python 3.10.7 64-bit",
   "language": "python",
   "name": "python3"
  },
  "language_info": {
   "codemirror_mode": {
    "name": "ipython",
    "version": 3
   },
   "file_extension": ".py",
   "mimetype": "text/x-python",
   "name": "python",
   "nbconvert_exporter": "python",
   "pygments_lexer": "ipython3",
   "version": "3.10.7"
  },
  "orig_nbformat": 4,
  "vscode": {
   "interpreter": {
    "hash": "aee8b7b246df8f9039afb4144a1f6fd8d2ca17a180786b69acc140d282b71a49"
   }
  }
 },
 "nbformat": 4,
 "nbformat_minor": 2
}
